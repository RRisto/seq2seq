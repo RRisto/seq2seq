{
 "cells": [
  {
   "cell_type": "markdown",
   "metadata": {},
   "source": [
    "## Batched seq2seq"
   ]
  },
  {
   "cell_type": "markdown",
   "metadata": {},
   "source": [
    "This my version of pytorch example of seq2seq tutorial: https://github.com/spro/practical-pytorch/blob/master/seq2seq-translation/seq2seq-translation-batched.ipynb"
   ]
  },
  {
   "cell_type": "markdown",
   "metadata": {},
   "source": [
    "New features:\n",
    "     - \"more batched\" seq2seq, initial example had batch size of 1, here bact size could be determined by user, making training faster\n",
    "    - validation data. Separate dataset for validation is used, this gives much more accurate picture of model training than just using training data\n",
    "    - refactored code:\n",
    "            - using dataloaders to get data\n",
    "            - separate classes for data managmement\n",
    "            - learner class for model creation and training\n",
    "    - data tokenization is multicore, making it faster\n",
    "    - possibility to upload pretrained w"
   ]
  },
  {
   "cell_type": "markdown",
   "metadata": {},
   "source": [
    "Some of the inspiration and code is from fastai (https://github.com/fastai/fastai), some from the original tutorial (I've referred to fastai if some of the code is taken from there)"
   ]
  },
  {
   "cell_type": "markdown",
   "metadata": {},
   "source": [
    "#### Example usage"
   ]
  },
  {
   "cell_type": "code",
   "execution_count": 1,
   "metadata": {},
   "outputs": [],
   "source": [
    "from seq2seq.data.data_manager import Seq2SeqDataManager\n",
    "from seq2seq.model.seq2seq_learner import Seq2seqLearner\n",
    "import torch"
   ]
  },
  {
   "cell_type": "code",
   "execution_count": 2,
   "metadata": {},
   "outputs": [
    {
     "name": "stdout",
     "output_type": "stream",
     "text": [
      "kept 1679 sequences from 1680 sequences\n",
      "kept 1679 sequences from 1680 sequences\n",
      "kept 1679 sequences from 1679 sequences\n",
      "kept 1679 sequences from 1679 sequences\n",
      "kept 184 sequences from 184 sequences\n",
      "kept 184 sequences from 184 sequences\n",
      "kept 184 sequences from 184 sequences\n",
      "kept 184 sequences from 184 sequences\n"
     ]
    }
   ],
   "source": [
    "DEVICE = 'cpu'\n",
    "MIN_LENGTH = 3 #min sequence length\n",
    "MAX_LENGTH = 10 #max sequnece length\n",
    "MIN_COUNT = 3 #min count of token occurence so that it is not marked as unknown\n",
    "\n",
    "## Get data\n",
    "data_manager = Seq2SeqDataManager.create_from_txt('data/eng-fra_sub.txt','en', 'fr',\n",
    "                                                  min_freq=MIN_COUNT, min_ntoks=MIN_LENGTH,\n",
    "                                                  max_ntoks=MAX_LENGTH, switch_pair=True, device=DEVICE)"
   ]
  },
  {
   "cell_type": "code",
   "execution_count": 3,
   "metadata": {},
   "outputs": [
    {
     "name": "stdout",
     "output_type": "stream",
     "text": [
      "Encoder embedding vector didnt have 285 tokens, example ['!', 'je', 'suis', 'est', '?']\n",
      "Decoder embedding vector didnt have 269 tokens, example ['i', 'it', '!', 'm', '?']\n",
      "0:0:11.79 (1 50.0%) loss train: 4.358 loss valid: 3.561\n"
     ]
    },
    {
     "data": {
      "image/png": "[encoded data removed]",
      "text/plain": [
       "<Figure size 432x288 with 1 Axes>"
      ]
     },
     "metadata": {
      "needs_background": "light"
     },
     "output_type": "display_data"
    },
    {
     "data": {
      "image/png": "[encoded data removed]",
      "text/plain": [
       "<Figure size 432x288 with 1 Axes>"
      ]
     },
     "metadata": {
      "needs_background": "light"
     },
     "output_type": "display_data"
    },
    {
     "name": "stdout",
     "output_type": "stream",
     "text": [
      "0:0:12.96 (2 100.0%) loss train: 3.359 loss valid: 3.14\n"
     ]
    }
   ],
   "source": [
    "hidden_size=50\n",
    "learner=Seq2seqLearner(data_manager,hidden_size)\n",
    "learner.fit(2, show_attention_every=5)"
   ]
  },
  {
   "cell_type": "code",
   "execution_count": 4,
   "metadata": {},
   "outputs": [
    {
     "name": "stdout",
     "output_type": "stream",
     "text": [
      "original text: Je suis sûr.\n",
      "original answer: I am sure.\n",
      "predicted text: i i . <eos>\n"
     ]
    }
   ],
   "source": [
    "# predict on text\n",
    "original_xtext = 'Je suis sûr.'\n",
    "original_ytext = 'I am sure.'\n",
    "predicted_text = learner.predict(original_xtext, device=DEVICE)\n",
    "print(f'original text: {original_xtext}')\n",
    "print(f'original answer: {original_ytext}')\n",
    "print(f'predicted text: {predicted_text}')"
   ]
  },
  {
   "cell_type": "code",
   "execution_count": null,
   "metadata": {},
   "outputs": [],
   "source": []
  }
 ],
 "metadata": {
  "kernelspec": {
   "display_name": "Python 3",
   "language": "python",
   "name": "python3"
  },
  "language_info": {
   "codemirror_mode": {
    "name": "ipython",
    "version": 3
   },
   "file_extension": ".py",
   "mimetype": "text/x-python",
   "name": "python",
   "nbconvert_exporter": "python",
   "pygments_lexer": "ipython3",
   "version": "3.7.1"
  }
 },
 "nbformat": 4,
 "nbformat_minor": 2
}
