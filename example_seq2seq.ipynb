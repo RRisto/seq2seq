{
 "cells": [
  {
   "cell_type": "code",
   "execution_count": 1,
   "metadata": {},
   "outputs": [],
   "source": [
    "from seq2seq.data.data_manager import Seq2SeqDataManager\n",
    "from seq2seq.model.seq2seq_learner import Seq2seqLearner\n",
    "import torch"
   ]
  },
  {
   "cell_type": "markdown",
   "metadata": {},
   "source": [
    "## Initialize data"
   ]
  },
  {
   "cell_type": "code",
   "execution_count": 2,
   "metadata": {},
   "outputs": [
    {
     "name": "stdout",
     "output_type": "stream",
     "text": [
      "Creating training dataset\n",
      "  Checking x sequence match to max, min criterias\n",
      "    kept 1659 sequences from 1680 sequences\n",
      "    kept 1659 sequences from 1680 sequences\n",
      "  Checking y sequence match to max, min criterias\n",
      "    kept 1659 sequences from 1659 sequences\n",
      "    kept 1659 sequences from 1659 sequences\n",
      "Creating valid dataset\n",
      "  Checking x sequence match to max, min criterias\n",
      "    kept 183 sequences from 184 sequences\n",
      "    kept 183 sequences from 184 sequences\n",
      "  Checking y sequence match to max, min criterias\n",
      "    kept 183 sequences from 183 sequences\n",
      "    kept 183 sequences from 183 sequences\n"
     ]
    }
   ],
   "source": [
    "MIN_LENGTH = 3 #min nr of tokens in sequence so that sequence is kept (otherwse removed) \n",
    "MAX_LENGTH = 8 #max nr of tokens in sequence so that sequence is kept (otherwse removed)\n",
    "MIN_COUNT = 3 #min count of tokens so that it is not transformed to <unk>\n",
    "\n",
    "#this tokenizes, prepocesses sequences so that learner could use it\n",
    "data_manager = Seq2SeqDataManager.create_from_txt('data/eng-fra_sub.txt','en', 'fr',\n",
    "                                                  min_freq=MIN_COUNT, min_ntoks=MIN_LENGTH,\n",
    "                                                  max_ntoks=MAX_LENGTH, switch_pair=True)"
   ]
  },
  {
   "cell_type": "markdown",
   "metadata": {},
   "source": [
    "# Initalize learner"
   ]
  },
  {
   "cell_type": "code",
   "execution_count": 3,
   "metadata": {},
   "outputs": [
    {
     "name": "stdout",
     "output_type": "stream",
     "text": [
      "Encoder embedding vector didnt have 280 tokens, example ['!', 'je', 'suis', 'est', '?']\n",
      "Decoder embedding vector didnt have 267 tokens, example ['i', 'it', '!', 'm', '?']\n"
     ]
    }
   ],
   "source": [
    "hidden_size=50 #if adding pretrained wordvectors, this size must match with its size\n",
    "learner=Seq2seqLearner(data_manager,hidden_size)"
   ]
  },
  {
   "cell_type": "markdown",
   "metadata": {},
   "source": [
    "Learner is a subclass of torch nn.Module. We could see architecutre of our model:"
   ]
  },
  {
   "cell_type": "code",
   "execution_count": 4,
   "metadata": {},
   "outputs": [
    {
     "data": {
      "text/plain": [
       "Seq2seqLearner(\n",
       "  (encoder): EncoderRNN(\n",
       "    (embedding): Embedding(280, 50, padding_idx=1)\n",
       "    (gru): GRU(50, 50, num_layers=2, dropout=0.1, bidirectional=True)\n",
       "  )\n",
       "  (decoder): LuongAttnDecoderRNN(\n",
       "    (embedding): Embedding(267, 50, padding_idx=1)\n",
       "    (embedding_dropout): Dropout(p=0.1)\n",
       "    (gru): GRU(50, 50, num_layers=2, dropout=0.1)\n",
       "    (concat): Linear(in_features=100, out_features=50, bias=True)\n",
       "    (out): Linear(in_features=50, out_features=267, bias=True)\n",
       "    (attn): Attn()\n",
       "  )\n",
       ")"
      ]
     },
     "execution_count": 4,
     "metadata": {},
     "output_type": "execute_result"
    }
   ],
   "source": [
    "learner"
   ]
  },
  {
   "cell_type": "markdown",
   "metadata": {},
   "source": [
    "# Train model"
   ]
  },
  {
   "cell_type": "markdown",
   "metadata": {},
   "source": [
    "To train a model, I created method fit, which uses our batches from dataloader to train model."
   ]
  },
  {
   "cell_type": "code",
   "execution_count": null,
   "metadata": {},
   "outputs": [
    {
     "name": "stdout",
     "output_type": "stream",
     "text": [
      "0:0:11.35 (1 50.0%) loss train: 4.355 loss valid: 3.654\n"
     ]
    },
    {
     "data": {
      "image/png": "[encoded data removed]",
      "text/plain": [
       "<Figure size 432x288 with 1 Axes>"
      ]
     },
     "metadata": {
      "needs_background": "light"
     },
     "output_type": "display_data"
    },
    {
     "data": {
      "image/png": "[encoded data removed]",
      "text/plain": [
       "<Figure size 432x288 with 1 Axes>"
      ]
     },
     "metadata": {
      "needs_background": "light"
     },
     "output_type": "display_data"
    },
    {
     "name": "stdout",
     "output_type": "stream",
     "text": [
      "0:0:13.04 (2 100.0%) loss train: 3.19 loss valid: 3.282\n"
     ]
    }
   ],
   "source": [
    "learner.fit(2, show_attention_every=5)"
   ]
  },
  {
   "cell_type": "markdown",
   "metadata": {},
   "source": [
    "## Predict"
   ]
  },
  {
   "cell_type": "markdown",
   "metadata": {},
   "source": [
    "Example  prediction:"
   ]
  },
  {
   "cell_type": "code",
   "execution_count": null,
   "metadata": {},
   "outputs": [
    {
     "name": "stdout",
     "output_type": "stream",
     "text": [
      "original text: Je suis sûr.\n",
      "original answer: I am sure.\n",
      "predicted text: i i i . <eos>\n"
     ]
    }
   ],
   "source": [
    "original_xtext = 'Je suis sûr.'\n",
    "original_ytext = 'I am sure.'\n",
    "predicted_text = learner.predict(original_xtext)\n",
    "print(f'original text: {original_xtext}')\n",
    "print(f'original answer: {original_ytext}')\n",
    "print(f'predicted text: {predicted_text}')"
   ]
  },
  {
   "cell_type": "markdown",
   "metadata": {},
   "source": [
    "## Save"
   ]
  },
  {
   "cell_type": "markdown",
   "metadata": {},
   "source": [
    "Saving was supposed to be easy using nn.Module, but spacy tokenizer was having issues with pickling. So instead of torch.save(learner), we save internal state dict and data_manager separately."
   ]
  },
  {
   "cell_type": "code",
   "execution_count": null,
   "metadata": {},
   "outputs": [],
   "source": [
    "data_manager.save('example_data_manager.pth')\n",
    "torch.save(learner.state_dict(), 'example_state_dict.pth')"
   ]
  },
  {
   "cell_type": "markdown",
   "metadata": {},
   "source": [
    "## Loading "
   ]
  },
  {
   "cell_type": "code",
   "execution_count": null,
   "metadata": {},
   "outputs": [],
   "source": [
    "data_manager_new=Seq2SeqDataManager.load('example_data_manager.pth')"
   ]
  },
  {
   "cell_type": "code",
   "execution_count": null,
   "metadata": {},
   "outputs": [],
   "source": [
    "#not very nice solution, but works. Learner parameters should be saved and given input for loading learner\n",
    "model=Seq2seqLearner(data_manager,hidden_size) #initialize learner object\n",
    "model.load_state_dict(torch.load('example_state_dict.pth')) #load state dict"
   ]
  },
  {
   "cell_type": "code",
   "execution_count": null,
   "metadata": {},
   "outputs": [],
   "source": [
    "model"
   ]
  },
  {
   "cell_type": "code",
   "execution_count": null,
   "metadata": {},
   "outputs": [],
   "source": [
    "#to check let's predict and see if we get same result\n",
    "model.predict(original_xtext)"
   ]
  },
  {
   "cell_type": "code",
   "execution_count": null,
   "metadata": {},
   "outputs": [],
   "source": []
  }
 ],
 "metadata": {
  "kernelspec": {
   "display_name": "Python 3",
   "language": "python",
   "name": "python3"
  },
  "language_info": {
   "codemirror_mode": {
    "name": "ipython",
    "version": 3
   },
   "file_extension": ".py",
   "mimetype": "text/x-python",
   "name": "python",
   "nbconvert_exporter": "python",
   "pygments_lexer": "ipython3",
   "version": "3.7.1"
  }
 },
 "nbformat": 4,
 "nbformat_minor": 2
}
