{
 "cells": [
  {
   "cell_type": "code",
   "execution_count": 1,
   "metadata": {},
   "outputs": [],
   "source": [
    "from seq2seq.data.data_manager import Seq2SeqDataManager\n",
    "from seq2seq.model.seq2seq_learner import Seq2seqLearner\n",
    "import torch"
   ]
  },
  {
   "cell_type": "markdown",
   "metadata": {},
   "source": [
    "To use this code, install requirements.txt packages, donwload spacy en and fr models (https://spacy.io/usage/models) and fasttext en and fr pretrained wordvectors (https://fasttext.cc/docs/en/crawl-vectors.html). Pretrained wordvectors are not in repository because of their size."
   ]
  },
  {
   "cell_type": "markdown",
   "metadata": {},
   "source": [
    "## Initialize data"
   ]
  },
  {
   "cell_type": "code",
   "execution_count": 2,
   "metadata": {},
   "outputs": [
    {
     "name": "stdout",
     "output_type": "stream",
     "text": [
      "Creating training dataset\n",
      "  Checking x sequence match to max, min criterias\n",
      "    kept 1680 sequences from 1680 sequences\n",
      "    kept 1680 sequences from 1680 sequences\n",
      "  Checking y sequence match to max, min criterias\n",
      "    kept 1680 sequences from 1680 sequences\n",
      "    kept 1680 sequences from 1680 sequences\n",
      "Creating valid dataset\n",
      "  Checking x sequence match to max, min criterias\n",
      "    kept 184 sequences from 184 sequences\n",
      "    kept 184 sequences from 184 sequences\n",
      "  Checking y sequence match to max, min criterias\n",
      "    kept 184 sequences from 184 sequences\n",
      "    kept 184 sequences from 184 sequences\n"
     ]
    }
   ],
   "source": [
    "MIN_LENGTH = 3 #min nr of tokens in sequence so that sequence is kept (otherwse removed) \n",
    "MAX_LENGTH = 15 #max nr of tokens in sequence so that sequence is kept (otherwse removed)\n",
    "MIN_COUNT = 3 #min count of tokens so that it is not transformed to <unk>\n",
    "\n",
    "#this tokenizes, prepocesses sequences so that learner could use it\n",
    "data_manager = Seq2SeqDataManager.create_from_txt('data/eng-fra_sub.txt','en', 'en',\n",
    "                                                  min_freq=MIN_COUNT, min_ntoks=MIN_LENGTH,\n",
    "                                                  max_ntoks=MAX_LENGTH, switch_pair=True)"
   ]
  },
  {
   "cell_type": "code",
   "execution_count": 3,
   "metadata": {},
   "outputs": [
    {
     "data": {
      "text/plain": [
       "(tensor([[ 25, 135,  25,  95,  41,   0,   0,   0,  96, 117],\n",
       "         [  0, 163,   0,  29,   5,   5,   4,   5,   5,   5],\n",
       "         [  5,   5,   5,   5,   3,   3,   3,   3,   3,   3],\n",
       "         [  3,   3,   3,   3,   1,   1,   1,   1,   1,   1]]),\n",
       " tensor([4, 4, 4, 4, 3, 3, 3, 3, 3, 3]),\n",
       " tensor([[  0, 162,  74,  74,  14,  65,   0,  74,  48,  48],\n",
       "         [  7,   7,   7,   7,   4,   7,   4,   7,   7,   7],\n",
       "         [  3,   3,   3,   3,   3,   3,   3,   3,   3,   3]]),\n",
       " tensor([3, 3, 3, 3, 3, 3, 3, 3, 3, 3]))"
      ]
     },
     "execution_count": 3,
     "metadata": {},
     "output_type": "execute_result"
    }
   ],
   "source": [
    "train_dataloader, valid_dataloader=data_manager.get_dataloaders()\n",
    "next(iter(train_dataloader))"
   ]
  },
  {
   "cell_type": "markdown",
   "metadata": {},
   "source": [
    "## Load pretrained word vectors"
   ]
  },
  {
   "cell_type": "code",
   "execution_count": 4,
   "metadata": {},
   "outputs": [],
   "source": [
    "data_manager.load_ft_vectors('data/wiki.en.vec', 'data/wiki.fr.vec')"
   ]
  },
  {
   "cell_type": "markdown",
   "metadata": {},
   "source": [
    "# Initalize learner"
   ]
  },
  {
   "cell_type": "code",
   "execution_count": 5,
   "metadata": {},
   "outputs": [
    {
     "name": "stdout",
     "output_type": "stream",
     "text": [
      "Encoder embedding vector didnt have 285 tokens, example ['!', 'je', 'suis', 'est', '?']\n",
      "Decoder embedding vector didnt have 269 tokens, example ['i', 'it', '!', 'm', '?']\n"
     ]
    }
   ],
   "source": [
    "hidden_size=300 #if adding pretrained wordvectors, this size must match with its size\n",
    "learner=Seq2seqLearner(data_manager,hidden_size)"
   ]
  },
  {
   "cell_type": "markdown",
   "metadata": {},
   "source": [
    "Learner is a subclass of torch nn.Module. We could see architecutre of our model:"
   ]
  },
  {
   "cell_type": "code",
   "execution_count": 6,
   "metadata": {},
   "outputs": [
    {
     "data": {
      "text/plain": [
       "Seq2seqLearner(\n",
       "  (encoder): EncoderRNN(\n",
       "    (embedding): Embedding(285, 300, padding_idx=1)\n",
       "    (gru): GRU(300, 300, num_layers=2, dropout=0.1, bidirectional=True)\n",
       "  )\n",
       "  (decoder): LuongAttnDecoderRNN(\n",
       "    (embedding): Embedding(269, 300, padding_idx=1)\n",
       "    (embedding_dropout): Dropout(p=0.1)\n",
       "    (gru): GRU(300, 300, num_layers=2, dropout=0.1)\n",
       "    (concat): Linear(in_features=600, out_features=300, bias=True)\n",
       "    (out): Linear(in_features=300, out_features=269, bias=True)\n",
       "    (attn): Attn()\n",
       "  )\n",
       ")"
      ]
     },
     "execution_count": 6,
     "metadata": {},
     "output_type": "execute_result"
    }
   ],
   "source": [
    "learner"
   ]
  },
  {
   "cell_type": "markdown",
   "metadata": {},
   "source": [
    "# Train model"
   ]
  },
  {
   "cell_type": "markdown",
   "metadata": {},
   "source": [
    "To train a model, I created method fit, which uses our batches from dataloader to train model."
   ]
  },
  {
   "cell_type": "code",
   "execution_count": 7,
   "metadata": {},
   "outputs": [
    {
     "name": "stdout",
     "output_type": "stream",
     "text": [
      "0:0:25.31 (1 5.0%) loss train: 3.875 loss valid: 3.468\n",
      "Input: je n y suis pas <unk> . <eos>\n",
      "Target: i didn t go . <eos>\n"
     ]
    },
    {
     "data": {
      "image/png": "[encoded data removed]",
      "text/plain": [
       "<Figure size 432x288 with 1 Axes>"
      ]
     },
     "metadata": {
      "needs_background": "light"
     },
     "output_type": "display_data"
    },
    {
     "name": "stdout",
     "output_type": "stream",
     "text": [
      "0:0:25.62 (2 10.0%) loss train: 3.108 loss valid: 2.461\n",
      "0:0:25.82 (3 15.0%) loss train: 2.43 loss valid: 1.993\n",
      "0:0:25.85 (4 20.0%) loss train: 2.039 loss valid: 1.93\n",
      "0:0:26.0 (5 25.0%) loss train: 1.804 loss valid: 1.8\n",
      "0:0:25.99 (6 30.0%) loss train: 1.659 loss valid: 1.571\n",
      "Input: je n y suis pas <unk> . <eos>\n",
      "Target: i didn t go . <eos>\n"
     ]
    },
    {
     "data": {
      "image/png": "[encoded data removed]",
      "text/plain": [
       "<Figure size 432x288 with 1 Axes>"
      ]
     },
     "metadata": {
      "needs_background": "light"
     },
     "output_type": "display_data"
    },
    {
     "name": "stdout",
     "output_type": "stream",
     "text": [
      "0:0:26.07 (7 35.0%) loss train: 1.389 loss valid: 1.506\n",
      "0:0:26.1 (8 40.0%) loss train: 1.106 loss valid: 1.353\n",
      "0:0:26.07 (9 45.0%) loss train: 0.949 loss valid: 1.303\n",
      "0:0:26.07 (10 50.0%) loss train: 0.874 loss valid: 1.3\n",
      "0:0:26.11 (11 55.0%) loss train: 0.77 loss valid: 1.256\n",
      "Input: je n y suis pas <unk> . <eos>\n",
      "Target: i didn t go . <eos>\n"
     ]
    },
    {
     "data": {
      "image/png": "[encoded data removed]",
      "text/plain": [
       "<Figure size 432x288 with 1 Axes>"
      ]
     },
     "metadata": {
      "needs_background": "light"
     },
     "output_type": "display_data"
    },
    {
     "name": "stdout",
     "output_type": "stream",
     "text": [
      "0:0:26.21 (12 60.0%) loss train: 0.635 loss valid: 1.196\n",
      "0:0:26.3 (13 65.0%) loss train: 0.587 loss valid: 1.197\n",
      "0:0:26.21 (14 70.0%) loss train: 0.526 loss valid: 1.193\n",
      "0:0:26.23 (15 75.0%) loss train: 0.482 loss valid: 1.195\n",
      "0:0:26.22 (16 80.0%) loss train: 0.44 loss valid: 1.205\n",
      "Input: je n y suis pas <unk> . <eos>\n",
      "Target: i didn t go . <eos>\n"
     ]
    },
    {
     "data": {
      "image/png": "[encoded data removed]",
      "text/plain": [
       "<Figure size 432x288 with 1 Axes>"
      ]
     },
     "metadata": {
      "needs_background": "light"
     },
     "output_type": "display_data"
    },
    {
     "name": "stdout",
     "output_type": "stream",
     "text": [
      "0:0:26.21 (17 85.0%) loss train: 0.461 loss valid: 1.197\n",
      "0:0:26.23 (18 90.0%) loss train: 0.4 loss valid: 1.203\n",
      "0:0:26.26 (19 95.0%) loss train: 0.361 loss valid: 1.212\n",
      "0:0:26.31 (20 100.0%) loss train: 0.367 loss valid: 1.24\n"
     ]
    }
   ],
   "source": [
    "batch_size=100\n",
    "learning_rate=0.001\n",
    "learner.fit(20,learning_rate, show_attention_every=5, show_attention_idxs=[0], device='cuda')"
   ]
  },
  {
   "cell_type": "markdown",
   "metadata": {},
   "source": [
    "## Predict"
   ]
  },
  {
   "cell_type": "markdown",
   "metadata": {},
   "source": [
    "Example  prediction:"
   ]
  },
  {
   "cell_type": "code",
   "execution_count": 8,
   "metadata": {},
   "outputs": [
    {
     "name": "stdout",
     "output_type": "stream",
     "text": [
      "original text: Je suis sûr.\n",
      "original answer: I am sure.\n",
      "predicted text: i m sure . <eos>\n"
     ]
    }
   ],
   "source": [
    "original_xtext = 'Je suis sûr.'\n",
    "original_ytext = 'I am sure.'\n",
    "predicted_text = learner.predict(original_xtext, device='cpu')\n",
    "print(f'original text: {original_xtext}')\n",
    "print(f'original answer: {original_ytext}')\n",
    "print(f'predicted text: {predicted_text}')"
   ]
  },
  {
   "cell_type": "markdown",
   "metadata": {},
   "source": [
    "Change devices if needed:"
   ]
  },
  {
   "cell_type": "code",
   "execution_count": 9,
   "metadata": {},
   "outputs": [
    {
     "name": "stdout",
     "output_type": "stream",
     "text": [
      "original text: Je suis sûr.\n",
      "original answer: I am sure.\n",
      "predicted text: i m sure . <eos>\n"
     ]
    }
   ],
   "source": [
    "original_xtext = 'Je suis sûr.'\n",
    "original_ytext = 'I am sure.'\n",
    "predicted_text = learner.predict(original_xtext, device='cuda')\n",
    "print(f'original text: {original_xtext}')\n",
    "print(f'original answer: {original_ytext}')\n",
    "print(f'predicted text: {predicted_text}')"
   ]
  },
  {
   "cell_type": "markdown",
   "metadata": {},
   "source": [
    "## Save"
   ]
  },
  {
   "cell_type": "markdown",
   "metadata": {},
   "source": [
    "Saving was supposed to be easy using nn.Module, but spacy tokenizer was having issues with pickling. So instead of torch.save(learner), we save internal state dict and data_manager separately."
   ]
  },
  {
   "cell_type": "code",
   "execution_count": 10,
   "metadata": {},
   "outputs": [],
   "source": [
    "data_manager.save('example_data_manager.pth')\n",
    "torch.save(learner.state_dict(), 'example_state_dict.pth')"
   ]
  },
  {
   "cell_type": "markdown",
   "metadata": {},
   "source": [
    "## Loading "
   ]
  },
  {
   "cell_type": "markdown",
   "metadata": {},
   "source": [
    "For loading we must first load dataloader, then initialize learner and load it's internal structure. Not very too pretty but does the job. If spacy tokenizer would not have an issues with pickling we could make it simpler. As purpose of this code is to be simple tutorial, I didn't want to see more trouble with it."
   ]
  },
  {
   "cell_type": "code",
   "execution_count": 11,
   "metadata": {},
   "outputs": [],
   "source": [
    "data_manager_new=Seq2SeqDataManager.load('example_data_manager.pth')"
   ]
  },
  {
   "cell_type": "code",
   "execution_count": 12,
   "metadata": {},
   "outputs": [
    {
     "name": "stdout",
     "output_type": "stream",
     "text": [
      "Encoder embedding vector didnt have 285 tokens, example ['!', 'je', 'suis', 'est', '?']\n",
      "Decoder embedding vector didnt have 269 tokens, example ['i', 'it', '!', 'm', '?']\n"
     ]
    }
   ],
   "source": [
    "#not very nice solution, but works. Learner parameters should be saved and given input for loading learner\n",
    "model=Seq2seqLearner(data_manager_new,hidden_size) #initialize learner object\n",
    "model.load_state_dict(torch.load('example_state_dict.pth')) #load state dict"
   ]
  },
  {
   "cell_type": "code",
   "execution_count": 13,
   "metadata": {},
   "outputs": [
    {
     "data": {
      "text/plain": [
       "Seq2seqLearner(\n",
       "  (encoder): EncoderRNN(\n",
       "    (embedding): Embedding(285, 300, padding_idx=1)\n",
       "    (gru): GRU(300, 300, num_layers=2, dropout=0.1, bidirectional=True)\n",
       "  )\n",
       "  (decoder): LuongAttnDecoderRNN(\n",
       "    (embedding): Embedding(269, 300, padding_idx=1)\n",
       "    (embedding_dropout): Dropout(p=0.1)\n",
       "    (gru): GRU(300, 300, num_layers=2, dropout=0.1)\n",
       "    (concat): Linear(in_features=600, out_features=300, bias=True)\n",
       "    (out): Linear(in_features=300, out_features=269, bias=True)\n",
       "    (attn): Attn()\n",
       "  )\n",
       ")"
      ]
     },
     "execution_count": 13,
     "metadata": {},
     "output_type": "execute_result"
    }
   ],
   "source": [
    "model"
   ]
  },
  {
   "cell_type": "code",
   "execution_count": 14,
   "metadata": {},
   "outputs": [
    {
     "data": {
      "text/plain": [
       "'i m sure . <eos>'"
      ]
     },
     "execution_count": 14,
     "metadata": {},
     "output_type": "execute_result"
    }
   ],
   "source": [
    "#to check let's predict and see if we get same result\n",
    "model.predict(original_xtext)"
   ]
  },
  {
   "cell_type": "code",
   "execution_count": null,
   "metadata": {},
   "outputs": [],
   "source": []
  }
 ],
 "metadata": {
  "kernelspec": {
   "display_name": "python3.6.6",
   "language": "python",
   "name": "python3.6.6"
  },
  "language_info": {
   "codemirror_mode": {
    "name": "ipython",
    "version": 3
   },
   "file_extension": ".py",
   "mimetype": "text/x-python",
   "name": "python",
   "nbconvert_exporter": "python",
   "pygments_lexer": "ipython3",
   "version": "3.6.6"
  }
 },
 "nbformat": 4,
 "nbformat_minor": 2
}
