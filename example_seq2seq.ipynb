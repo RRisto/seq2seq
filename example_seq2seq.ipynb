{
 "cells": [
  {
   "cell_type": "code",
   "execution_count": 5,
   "metadata": {},
   "outputs": [],
   "source": [
    "from seq2seq.data.data_manager import Seq2SeqDataManager\n",
    "from seq2seq.model.seq2seq_learner import Seq2seqLearner\n",
    "import torch"
   ]
  },
  {
   "cell_type": "code",
   "execution_count": 2,
   "metadata": {},
   "outputs": [
    {
     "name": "stdout",
     "output_type": "stream",
     "text": [
      "kept 1679 sequences from 1680 sequences\n",
      "kept 1679 sequences from 1680 sequences\n",
      "kept 1679 sequences from 1679 sequences\n",
      "kept 1679 sequences from 1679 sequences\n",
      "kept 184 sequences from 184 sequences\n",
      "kept 184 sequences from 184 sequences\n",
      "kept 184 sequences from 184 sequences\n",
      "kept 184 sequences from 184 sequences\n"
     ]
    }
   ],
   "source": [
    "DEVICE = 'cpu'\n",
    "MIN_LENGTH = 3\n",
    "MAX_LENGTH = 10\n",
    "MIN_COUNT = 3\n",
    "\n",
    "## Get data\n",
    "# data_manager=Seq2SeqDataManager.create_from_txt('data/eng-fra_sub.txt')\n",
    "data_manager = Seq2SeqDataManager.create_from_txt('data/eng-fra_sub.txt', min_freq=MIN_COUNT, min_ntoks=MIN_LENGTH,\n",
    "                                                  max_ntoks=MAX_LENGTH, switch_pair=True, device=DEVICE)"
   ]
  },
  {
   "cell_type": "code",
   "execution_count": 3,
   "metadata": {},
   "outputs": [
    {
     "name": "stdout",
     "output_type": "stream",
     "text": [
      "0:0:31.12 (1 5.0%) loss train: 4.34 loss valid: 3.57\n"
     ]
    },
    {
     "data": {
      "image/png": "[encoded data removed]",
      "text/plain": [
       "<Figure size 432x288 with 1 Axes>"
      ]
     },
     "metadata": {
      "needs_background": "light"
     },
     "output_type": "display_data"
    },
    {
     "name": "stdout",
     "output_type": "stream",
     "text": [
      "0:0:31.26 (2 10.0%) loss train: 3.4 loss valid: 3.139\n",
      "0:0:29.49 (3 15.0%) loss train: 3.029 loss valid: 3.064\n",
      "0:0:22.26 (4 20.0%) loss train: 2.842 loss valid: 3.068\n",
      "0:0:31.87 (5 25.0%) loss train: 2.601 loss valid: 2.941\n",
      "0:0:28.98 (6 30.0%) loss train: 2.447 loss valid: 2.75\n"
     ]
    },
    {
     "data": {
      "image/png": "[encoded data removed]",
      "text/plain": [
       "<Figure size 432x288 with 1 Axes>"
      ]
     },
     "metadata": {
      "needs_background": "light"
     },
     "output_type": "display_data"
    },
    {
     "name": "stdout",
     "output_type": "stream",
     "text": [
      "0:0:30.91 (7 35.0%) loss train: 2.316 loss valid: 2.792\n",
      "0:0:30.18 (8 40.0%) loss train: 2.224 loss valid: 3.314\n",
      "0:0:29.42 (9 45.0%) loss train: 2.17 loss valid: 2.731\n",
      "0:0:32.28 (10 50.0%) loss train: 2.055 loss valid: 2.608\n",
      "0:0:33.53 (11 55.0%) loss train: 1.89 loss valid: 2.213\n"
     ]
    },
    {
     "data": {
      "image/png": "[encoded data removed]",
      "text/plain": [
       "<Figure size 432x288 with 1 Axes>"
      ]
     },
     "metadata": {
      "needs_background": "light"
     },
     "output_type": "display_data"
    },
    {
     "name": "stdout",
     "output_type": "stream",
     "text": [
      "0:0:41.67 (12 60.0%) loss train: 1.797 loss valid: 2.199\n",
      "0:0:33.3 (13 65.0%) loss train: 1.709 loss valid: 2.129\n",
      "0:0:28.4 (14 70.0%) loss train: 1.629 loss valid: 2.079\n",
      "0:0:31.91 (15 75.0%) loss train: 1.562 loss valid: 1.985\n",
      "0:0:40.74 (16 80.0%) loss train: 1.492 loss valid: 1.916\n"
     ]
    },
    {
     "data": {
      "image/png": "[encoded data removed]",
      "text/plain": [
       "<Figure size 432x288 with 1 Axes>"
      ]
     },
     "metadata": {
      "needs_background": "light"
     },
     "output_type": "display_data"
    },
    {
     "name": "stdout",
     "output_type": "stream",
     "text": [
      "0:0:38.71 (17 85.0%) loss train: 1.423 loss valid: 1.88\n",
      "0:0:35.16 (18 90.0%) loss train: 1.364 loss valid: 1.915\n",
      "0:0:34.68 (19 95.0%) loss train: 1.301 loss valid: 1.84\n",
      "0:0:31.74 (20 100.0%) loss train: 1.25 loss valid: 1.835\n"
     ]
    }
   ],
   "source": [
    "hidden_size=50\n",
    "learner=Seq2seqLearner(data_manager,hidden_size)\n",
    "learner.fit(20, show_attention_every=5)"
   ]
  },
  {
   "cell_type": "code",
   "execution_count": 4,
   "metadata": {},
   "outputs": [
    {
     "name": "stdout",
     "output_type": "stream",
     "text": [
      "original text: Je suis sûr.\n",
      "original answer: I am sure.\n",
      "predicted text: i m m . <eos>\n"
     ]
    }
   ],
   "source": [
    "original_xtext = 'Je suis sûr.'\n",
    "original_ytext = 'I am sure.'\n",
    "predicted_text = learner.predict(original_xtext, device=DEVICE)\n",
    "print(f'original text: {original_xtext}')\n",
    "print(f'original answer: {original_ytext}')\n",
    "print(f'predicted text: {predicted_text}')"
   ]
  },
  {
   "cell_type": "code",
   "execution_count": 6,
   "metadata": {},
   "outputs": [],
   "source": [
    "torch.save(learner,'sample_model.pth')"
   ]
  },
  {
   "cell_type": "code",
   "execution_count": 7,
   "metadata": {},
   "outputs": [],
   "source": [
    "model = torch.load('sample_model.pth')"
   ]
  },
  {
   "cell_type": "code",
   "execution_count": 8,
   "metadata": {},
   "outputs": [
    {
     "data": {
      "text/plain": [
       "'i m m . <eos>'"
      ]
     },
     "execution_count": 8,
     "metadata": {},
     "output_type": "execute_result"
    }
   ],
   "source": [
    "model.predict(original_xtext, device=DEVICE)"
   ]
  },
  {
   "cell_type": "code",
   "execution_count": null,
   "metadata": {},
   "outputs": [],
   "source": []
  }
 ],
 "metadata": {
  "kernelspec": {
   "display_name": "Python 3",
   "language": "python",
   "name": "python3"
  },
  "language_info": {
   "codemirror_mode": {
    "name": "ipython",
    "version": 3
   },
   "file_extension": ".py",
   "mimetype": "text/x-python",
   "name": "python",
   "nbconvert_exporter": "python",
   "pygments_lexer": "ipython3",
   "version": "3.7.1"
  }
 },
 "nbformat": 4,
 "nbformat_minor": 2
}
